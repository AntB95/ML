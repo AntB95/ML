{
 "cells": [
  {
   "cell_type": "code",
   "execution_count": 3,
   "metadata": {},
   "outputs": [],
   "source": [
    "import numpy as np\n",
    "import matplotlib.pyplot as plt\n",
    "import pandas as pd\n",
    "from proj1_helpers import *\n",
    "from implementations import *\n",
    "from annexe import *\n",
    "import seaborn as sns"
   ]
  },
  {
   "cell_type": "code",
   "execution_count": 2,
   "metadata": {},
   "outputs": [],
   "source": [
    "train_set = load_csv_data('/Users/bedanian/Desktop/Machine Learning/Project 1/train.csv', sub_sample = True)\n",
    "test_set = load_csv_data('/Users/bedanian/Desktop/Machine Learning/Project 1/test.csv', sub_sample = False)"
   ]
  },
  {
   "cell_type": "code",
   "execution_count": 9,
   "metadata": {},
   "outputs": [
    {
     "data": {
      "text/plain": [
       "<matplotlib.axes._subplots.AxesSubplot at 0x121c97c50>"
      ]
     },
     "execution_count": 9,
     "metadata": {},
     "output_type": "execute_result"
    },
    {
     "data": {
      "image/png": "[encoded data removed]",
      "text/plain": [
       "<Figure size 1080x720 with 2 Axes>"
      ]
     },
     "metadata": {
      "needs_background": "light"
     },
     "output_type": "display_data"
    }
   ],
   "source": [
    "# calculate the correlation matrix\n",
    "x_train = train_set[1]\n",
    "y_train = train_set[0]\n",
    "df = pd.DataFrame(x_train)\n",
    "corr = df.corr()\n",
    "# plot the heatmap\n",
    "plt.figure(1, figsize = (15, 10))\n",
    "sns.heatmap(corr, xticklabels=corr.columns, yticklabels=corr.columns)"
   ]
  },
  {
   "cell_type": "code",
   "execution_count": 54,
   "metadata": {},
   "outputs": [
    {
     "name": "stdout",
     "output_type": "stream",
     "text": [
      "0     2.0\n",
      "1     1.0\n",
      "6     0.0\n",
      "37    3.0\n",
      "Name: 22, dtype: float64\n"
     ]
    }
   ],
   "source": [
    "print(df[22].drop_duplicates())"
   ]
  },
  {
   "cell_type": "code",
   "execution_count": 48,
   "metadata": {},
   "outputs": [],
   "source": [
    "def split(data_set, indice):\n",
    "    y_set = data_set[0]\n",
    "    x_set = data_set[1]\n",
    "    id_set = data_set[2]\n",
    "    return (y_set[x_set[:,22] == indice],x_set[x_set[:,22] == indice],id_set[x_set[:,22] == indice])\n",
    "\n",
    "def replace_mean(x_set):\n",
    "    x_set[x_set == -999] = np.nan\n",
    "    list_mean = x_set.mean(axis = 0)\n",
    "    for i in range(0,len(list_mean)):\n",
    "        x_set[np.isnan(x_set[:,i])] = list_mean[i]\n",
    "    return x_set\n",
    "\n",
    "def get_na_columns(array, threshold, value):\n",
    "    na_indices = []\n",
    "    for ind, row in enumerate(array.T):\n",
    "        count_na = 0\n",
    "        for j in range(len(row)):\n",
    "            if row[j] == value:\n",
    "                count_na += 1\n",
    "        if (count_na/len(row)) > threshold:\n",
    "            na_indices.append(ind)\n",
    "    return na_indices\n",
    "\n",
    "def standardize(x_train, x_test):\n",
    "    mean = np.mean(x_train)\n",
    "    norm = np.linalg.norm(x_train)\n",
    "    x_train_std = (x_train - mean)/norm\n",
    "    x_test_std = (x_test - mean)/norm\n",
    "    return x_train_std, x_test_std\n",
    "\n",
    "def sigmoid(x):\n",
    "    return 0.5 * (1 + np.tanh(0.5*x))\n",
    "\n",
    "def zero_to_neg(array):\n",
    "    ret = np.zeros(len(array))\n",
    "    for i, v in enumerate(array):\n",
    "        if v == 0:\n",
    "            ret[i] = -1\n",
    "        else:\n",
    "            ret[i] = v\n",
    "    return ret\n",
    "\n",
    "def build_poly(x, degree):\n",
    "    poly = x\n",
    "    for deg in range(2, degree+1):\n",
    "        poly = np.concatenate((poly, np.power(x, deg)), axis = 1)\n",
    "    return poly"
   ]
  },
  {
   "cell_type": "code",
   "execution_count": 73,
   "metadata": {},
   "outputs": [],
   "source": [
    "#Preprocessing\n",
    "#split the datset based on column 22 value\n",
    "#train\n",
    "(y_train_0,x_train_0,id_train_0) = split(train_set, 0)\n",
    "(y_train_1,x_train_1,id_train_1) = split(train_set, 1)\n",
    "(y_train_2,x_train_2,id_train_2) = split(train_set, 2)\n",
    "(y_train_3,x_train_3,id_train_3) = split(train_set, 3)\n",
    "#test\n",
    "(y_test_0,x_test_0,id_test_0) = split(test_set, 0)\n",
    "(y_test_1,x_test_1,id_test_1) = split(test_set, 1)\n",
    "(y_test_2,x_test_2,id_test_2) = split(test_set, 2)\n",
    "(y_test_3,x_test_3,id_test_3) = split(test_set, 3)\n",
    "\n",
    "#clean column of nan\n",
    "nan_0 = get_na_columns(x_train_0, 0.90, -999)\n",
    "x_train_0 = np.delete(x_train_0, nan_0 , axis = 1)\n",
    "x_test_0 = np.delete(x_test_0, nan_0 , axis = 1)\n",
    "\n",
    "nan_1 = get_na_columns(x_train_1, 0.90, -999)\n",
    "x_train_1 = np.delete(x_train_1, nan_1 , axis = 1)\n",
    "x_test_1 = np.delete(x_test_1, nan_1 , axis = 1)\n",
    "\n",
    "nan_2 = get_na_columns(x_train_2, 0.90, -999)\n",
    "x_train_2 = np.delete(x_train_2, nan_2, axis = 1)\n",
    "x_test_2 = np.delete(x_test_2, nan_2, axis = 1)\n",
    "\n",
    "nan_3 = get_na_columns(x_train_3, 0.90, -999)\n",
    "x_train_3 = np.delete(x_train_3, nan_3, axis = 1)\n",
    "x_test_3 = np.delete(x_test_3, nan_3, axis = 1)\n",
    "\n",
    "#cleaning last nan\n",
    "x_train_0 = replace_mean(x_train_0)\n",
    "x_train_1 = replace_mean(x_train_1)\n",
    "x_train_2 = replace_mean(x_train_2)\n",
    "x_train_3 = replace_mean(x_train_3)\n",
    "\n",
    "x_test_0 = replace_mean(x_test_0)\n",
    "x_test_1 = replace_mean(x_test_1)\n",
    "x_test_2 = replace_mean(x_test_2)\n",
    "x_test_3 = replace_mean(x_test_3)\n",
    "\n",
    "#standardize\n",
    "(x_train_0,x_test_0) = standardize(x_train_0,x_test_0)\n",
    "(x_train_1,x_test_1) = standardize(x_train_1,x_test_1)\n",
    "(x_train_2,x_test_2) = standardize(x_train_2,x_test_2)\n",
    "(x_train_3,x_test_3) = standardize(x_train_3,x_test_3)"
   ]
  },
  {
   "cell_type": "code",
   "execution_count": 63,
   "metadata": {},
   "outputs": [
    {
     "data": {
      "text/plain": [
       "1540"
      ]
     },
     "execution_count": 63,
     "metadata": {},
     "output_type": "execute_result"
    }
   ],
   "source": [
    "len(y_train_1)"
   ]
  },
  {
   "cell_type": "code",
   "execution_count": 72,
   "metadata": {},
   "outputs": [
    {
     "data": {
      "text/plain": [
       "30"
      ]
     },
     "execution_count": 72,
     "metadata": {},
     "output_type": "execute_result"
    }
   ],
   "source": [
    "len(x_test_0[0])"
   ]
  },
  {
   "cell_type": "code",
   "execution_count": 74,
   "metadata": {},
   "outputs": [],
   "source": [
    "(w_0,_) = least_squares(y_train_0, x_train_0)\n",
    "(w_1,_) = least_squares(y_train_1, x_train_1)\n",
    "(w_2,_) = least_squares(y_train_2, x_train_2)\n",
    "(w_3,_) = least_squares(y_train_3, x_train_3)\n",
    "\n",
    "y_0 = zero_to_neg(np.around(sigmoid(x_test_0 @ w_0)))\n",
    "y_1 = zero_to_neg(np.around(sigmoid(x_test_1 @ w_1)))\n",
    "y_2 = zero_to_neg(np.around(sigmoid(x_test_2 @ w_2)))\n",
    "y_3 = zero_to_neg(np.around(sigmoid(x_test_3 @ w_3)))"
   ]
  },
  {
   "cell_type": "code",
   "execution_count": 76,
   "metadata": {},
   "outputs": [
    {
     "ename": "NameError",
     "evalue": "name 'ids_test' is not defined",
     "output_type": "error",
     "traceback": [
      "\u001b[0;31m---------------------------------------------------------------------------\u001b[0m",
      "\u001b[0;31mNameError\u001b[0m                                 Traceback (most recent call last)",
      "\u001b[0;32m<ipython-input-76-6a65f35865c9>\u001b[0m in \u001b[0;36m<module>\u001b[0;34m\u001b[0m\n\u001b[1;32m      1\u001b[0m \u001b[0my\u001b[0m \u001b[0;34m=\u001b[0m \u001b[0mnp\u001b[0m\u001b[0;34m.\u001b[0m\u001b[0mconcatenate\u001b[0m\u001b[0;34m(\u001b[0m\u001b[0;34m(\u001b[0m\u001b[0my_0\u001b[0m\u001b[0;34m,\u001b[0m\u001b[0my_1\u001b[0m\u001b[0;34m,\u001b[0m\u001b[0my_2\u001b[0m\u001b[0;34m,\u001b[0m\u001b[0my_3\u001b[0m\u001b[0;34m)\u001b[0m\u001b[0;34m)\u001b[0m\u001b[0;34m\u001b[0m\u001b[0;34m\u001b[0m\u001b[0m\n\u001b[1;32m      2\u001b[0m \u001b[0mid_test\u001b[0m \u001b[0;34m=\u001b[0m \u001b[0mnp\u001b[0m\u001b[0;34m.\u001b[0m\u001b[0mconcatenate\u001b[0m\u001b[0;34m(\u001b[0m\u001b[0;34m(\u001b[0m\u001b[0mid_test_0\u001b[0m\u001b[0;34m,\u001b[0m\u001b[0mid_test_1\u001b[0m\u001b[0;34m,\u001b[0m\u001b[0mid_test_2\u001b[0m\u001b[0;34m,\u001b[0m\u001b[0mid_test_3\u001b[0m\u001b[0;34m)\u001b[0m\u001b[0;34m)\u001b[0m\u001b[0;34m\u001b[0m\u001b[0;34m\u001b[0m\u001b[0m\n\u001b[0;32m----> 3\u001b[0;31m \u001b[0mcreate_csv_submission\u001b[0m\u001b[0;34m(\u001b[0m\u001b[0mids_test\u001b[0m\u001b[0;34m,\u001b[0m \u001b[0my\u001b[0m\u001b[0;34m,\u001b[0m \u001b[0;34m'prediction.csv'\u001b[0m\u001b[0;34m)\u001b[0m\u001b[0;34m\u001b[0m\u001b[0;34m\u001b[0m\u001b[0m\n\u001b[0m",
      "\u001b[0;31mNameError\u001b[0m: name 'ids_test' is not defined"
     ]
    }
   ],
   "source": [
    "y = np.concatenate((y_0,y_1,y_2,y_3))\n",
    "id_test = np.concatenate((id_test_0,id_test_1,id_test_2,id_test_3))\n",
    "create_csv_submission(ids_test, y, 'prediction.csv')"
   ]
  },
  {
   "cell_type": "code",
   "execution_count": null,
   "metadata": {},
   "outputs": [],
   "source": []
  }
 ],
 "metadata": {
  "kernelspec": {
   "display_name": "Python 3",
   "language": "python",
   "name": "python3"
  },
  "language_info": {
   "codemirror_mode": {
    "name": "ipython",
    "version": 3
   },
   "file_extension": ".py",
   "mimetype": "text/x-python",
   "name": "python",
   "nbconvert_exporter": "python",
   "pygments_lexer": "ipython3",
   "version": "3.7.3"
  }
 },
 "nbformat": 4,
 "nbformat_minor": 2
}
