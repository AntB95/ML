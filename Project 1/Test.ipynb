{
 "cells": [
  {
   "cell_type": "code",
   "execution_count": 21,
   "metadata": {},
   "outputs": [],
   "source": [
    "import numpy as np\n",
    "import matplotlib.pyplot as plt\n",
    "import pandas as pd\n",
    "from proj1_helpers import *\n",
    "from implementations import *\n",
    "from annexe import *\n",
    "import seaborn as sns\n",
    "np.random.seed(30)"
   ]
  },
  {
   "cell_type": "code",
   "execution_count": 7,
   "metadata": {},
   "outputs": [],
   "source": [
    "train_set = load_csv_data('/Users/bedanian/Desktop/Machine Learning/Project 1/train.csv', sub_sample = True)\n",
    "test_set = load_csv_data('/Users/bedanian/Desktop/Machine Learning/Project 1/test.csv', sub_sample = False)"
   ]
  },
  {
   "cell_type": "code",
   "execution_count": 8,
   "metadata": {},
   "outputs": [],
   "source": [
    "def get_na_columns(array, threshold, value):\n",
    "    na_indices = []\n",
    "    for ind, row in enumerate(array.T):\n",
    "        count_na = 0\n",
    "        for j in range(len(row)):\n",
    "            if row[j] == value:\n",
    "                count_na += 1\n",
    "        if (count_na/len(row)) > threshold:\n",
    "            na_indices.append(ind)\n",
    "    return na_indices\n",
    "\n",
    "def replace_mean(x_set):\n",
    "    x_set[x_set == -999] = np.nan\n",
    "    list_mean = x_set.mean(axis = 0)\n",
    "    for i in range(0,len(list_mean)):\n",
    "        x_set[np.isnan(x_set[:,i])] = list_mean[i]\n",
    "    return x_set\n",
    "\n",
    "def sigmoid(x):\n",
    "    return 0.5 * (1 + np.tanh(0.5*x))\n",
    "\n",
    "def zero_to_neg(array):\n",
    "    ret = np.zeros(len(array))\n",
    "    for i, v in enumerate(array):\n",
    "        if v == 0:\n",
    "            ret[i] = -1\n",
    "        else:\n",
    "            ret[i] = v\n",
    "    return ret"
   ]
  },
  {
   "cell_type": "code",
   "execution_count": 26,
   "metadata": {},
   "outputs": [],
   "source": [
    "x_train = train_set[1]\n",
    "y_train = train_set[0]\n",
    "id_train = train_set[2]\n",
    "\n",
    "x_test = test_set[1]\n",
    "y_test = test_set[0]\n",
    "id_test = test_set[2]\n",
    "\n",
    "nan = get_na_columns(x_train, 0.7, -999)\n",
    "x_train = np.delete(x_train, nan, axis = 1)\n",
    "x_test = np.delete(x_test, nan, axis = 1)\n",
    "\n",
    "x_train = replace_mean(x_train)\n",
    "x_test = replace_mean(x_test)\n",
    "\n",
    "w0 = least_squares(y_train, x_train)\n",
    "(w,_) = ridge_regression(y_train, x_train,1e-8)\n",
    "y = zero_to_neg(np.around(sigmoid(x_test @ w)))\n",
    "\n",
    "create_csv_submission(id_test, y, 'prediction.csv')"
   ]
  }
 ],
 "metadata": {
  "kernelspec": {
   "display_name": "Python 3",
   "language": "python",
   "name": "python3"
  },
  "language_info": {
   "codemirror_mode": {
    "name": "ipython",
    "version": 3
   },
   "file_extension": ".py",
   "mimetype": "text/x-python",
   "name": "python",
   "nbconvert_exporter": "python",
   "pygments_lexer": "ipython3",
   "version": "3.7.3"
  }
 },
 "nbformat": 4,
 "nbformat_minor": 2
}
