{
 "cells": [
  {
   "cell_type": "code",
   "execution_count": 1,
   "metadata": {},
   "outputs": [],
   "source": [
    "import numpy as np\n",
    "import matplotlib.pyplot as plt\n",
    "from proj1_helpers import *\n",
    "from implementations import *\n",
    "from annexe import *"
   ]
  },
  {
   "cell_type": "code",
   "execution_count": 2,
   "metadata": {},
   "outputs": [],
   "source": [
    "train_set = load_csv_data('/Users/bedanian/Desktop/Machine Learning/Project 1/train.csv', sub_sample = True)\n",
    "test_set = load_csv_data('/Users/bedanian/Desktop/Machine Learning/Project 1/test.csv', sub_sample = False)"
   ]
  },
  {
   "cell_type": "code",
   "execution_count": 33,
   "metadata": {},
   "outputs": [],
   "source": [
    "def cross_validation(train_set,lower,upper,degree,nb):\n",
    "    x_train = train_set[1]\n",
    "    y_train = train_set[0]\n",
    "    #pre process\n",
    "    na_indices = get_na_columns(x_train, 0.7, -999)\n",
    "    x_train = np.delete(x_train, na_indices, axis = 1)\n",
    "    x_train[x_train == -999] = 0\n",
    "    #split dataset\n",
    "    (x_train, x_test, y_train, y_test) = split_data(x_train, y_train, ratio = 0.8, seed = 1)\n",
    "    #standardize \n",
    "    x_train, x_test = standardize(x_train, x_test)\n",
    "    #Polynome \n",
    "    x_train = build_poly(x_train, degree)\n",
    "    x_test = build_poly(x_test, degree)\n",
    "    lambda_list = np.logspace(lower, upper, nb)\n",
    "    rmse_train = []\n",
    "    rmse_test = []\n",
    "    for lbd in lambda_list:\n",
    "        w = ridge_regression(y_train, x_train, lbd)[0]\n",
    "        loss_train = 2*MSE(y_train, x_train, w)\n",
    "        loss_test = 2*MSE(y_test, x_test, w)\n",
    "        rmse_train.append(np.sqrt(loss_train))\n",
    "        rmse_test.append(np.sqrt(loss_test))\n",
    "    return [min(rmse_test),lambda_list[np.argmin(rmse_test)]]\n",
    "\n",
    "def submit(train_set,test_set,lbd,degree):\n",
    "    #train set test set and id\n",
    "    x_train = train_set[1]\n",
    "    y_train = train_set[0]\n",
    "    ids_train = train_set[2]\n",
    "    x_test = test_set[1]\n",
    "    y_test = test_set[0]\n",
    "    ids_test = test_set[2]\n",
    "    #drop columns with 70% of NA \n",
    "    na_indices = get_na_columns(x_train, 0.7, -999)\n",
    "    x_train = np.delete(x_train, na_indices, axis = 1)\n",
    "    x_test = np.delete(x_test, na_indices, axis = 1)\n",
    "    # put 0 for -999\n",
    "    x_train[x_train == -999] = 0\n",
    "    x_test[x_test == -999] = 0\n",
    "    #standardize \n",
    "    x_train, x_test = standardize(x_train, x_test)\n",
    "    #apply polynome of degree 3 on it\n",
    "    x_train = build_poly(x_train, degree)\n",
    "    x_test = build_poly(x_test, degree)\n",
    "    #ridge regression with lbd 10**-11 need to be explain why \n",
    "    (w,loss) = ridge_regression(y_train, x_train, lbd)\n",
    "    #use sigmoid to put the value between 1 and 0 \n",
    "    # if 0 put -1\n",
    "    y = zero_to_neg(np.around(sigmoid(x_test @ w)))\n",
    "    #submit\n",
    "    create_csv_submission(ids_test, y, 'prediction.csv')"
   ]
  },
  {
   "cell_type": "code",
   "execution_count": 39,
   "metadata": {},
   "outputs": [
    {
     "name": "stdout",
     "output_type": "stream",
     "text": [
      "[0.7685422840085778, 5.090575902036687e-28, 5]\n"
     ]
    }
   ],
   "source": [
    "def visualization(lambda_list, mse_train, mse_test,d):\n",
    "    plt.subplot(5,5,d+1)\n",
    "    plt.semilogx(lambda_list, mse_train, marker=\".\", color='b', label='train error')\n",
    "    plt.semilogx(lambda_list, mse_test, marker=\".\", color='r', label='test error')\n",
    "    plt.xlabel(\"lambda\")\n",
    "    plt.ylabel(\"RMSE\")\n",
    "    plt.title(\"cross validation using polynome of degree \" + str(d))\n",
    "    plt.legend()\n",
    "    plt.grid()\n",
    "\n",
    "def cross_validation_2(degree_max,lambda_max,lambda_min,nb):\n",
    "    res = []\n",
    "    for d in range(0,degree_max):\n",
    "        res += [cross_validation(train_set,-50,10,d,400)+[d]]\n",
    "    print(res[np.argmin([row[0] for row in res])])\n",
    "\n",
    "cross_validation_2(10,1,-70,1000)    \n",
    "5.298316906283724e-49"
   ]
  },
  {
   "cell_type": "code",
   "execution_count": null,
   "metadata": {},
   "outputs": [],
   "source": [
    "x_train = train_set[1]\n",
    "y_train = train_set[0]\n",
    "#pre process\n",
    "na_indices = get_na_columns(x_train, 0.7, -999)\n",
    "x_train = np.delete(x_train, na_indices, axis = 1)\n",
    "x_train[x_train == -999] = 0\n",
    "#split dataset\n",
    "(x_train, x_test, y_train, y_test) = split_data(x_train, y_train, ratio = 0.8, seed = 1)\n",
    "#standardize \n",
    "x_train, x_test = standardize(x_train, x_test)\n",
    "#Polynome \n",
    "x_train = build_poly(x_train, degree)\n",
    "x_test = build_poly(x_test, degree)\n",
    "lambda_list = np.logspace(lower, upper, nb)\n",
    "rmse_train = []\n",
    "rmse_test = []\n",
    "lbd = 5.298316906283724e-49\n",
    "    w = ridge_regression(y_train, x_train, lbd)[0]\n",
    "    loss_train = 2*MSE(y_train, x_train, w)\n",
    "    loss_test = 2*MSE(y_test, x_test, w)\n",
    "    rmse_train.append(np.sqrt(loss_train))\n",
    "    rmse_test.append(np.sqrt(loss_test))\n",
    "return [min(rmse_test),lambda_list[np.argmin(rmse_test)]]"
   ]
  },
  {
   "cell_type": "code",
   "execution_count": 37,
   "metadata": {},
   "outputs": [],
   "source": [
    "# best one = (5.298316906283724e-49, 12)\n",
    "submit(train_set,test_set,3.994880193954146e-30, 24)"
   ]
  },
  {
   "cell_type": "code",
   "execution_count": 23,
   "metadata": {},
   "outputs": [],
   "source": [
    "def cross_validation(train_set,lower,upper,d):\n",
    "    x_train = train_set[1]\n",
    "    y_train = train_set[0]\n",
    "    #pre process\n",
    "    na_indices = get_na_columns(x_train, 0.7, -999)\n",
    "    x_train = np.delete(x_train, na_indices, axis = 1)\n",
    "    x_train[x_train == -999] = 0\n",
    "    #split dataset\n",
    "    (x_train, x_test, y_train, y_test) = split_data(x_train, y_train, ratio = 0.8, seed = 1)\n",
    "    #standardize \n",
    "    x_train, x_test = standardize(x_train, x_test)\n",
    "    #Polynome \n",
    "    x_train = build_poly(x_train, degree)\n",
    "    x_test = build_poly(x_test, degree)\n",
    "    #wo \n",
    "    w0 = least_squares(y_train, x_train)[0]\n",
    "    lbd = 1.084365968689610 \n",
    "    gamm = 4.824108704165374e-0\n",
    "    lambda_list = np.logspace(lower, upper,200)\n",
    "    rmse_train = []\n",
    "    rmse_test = []\n",
    "    for gamma in lambda_list:\n",
    "        w = reg_logistic_regression(y_train, x_train, lbd, w0, 1000, gamma)[0]\n",
    "        loss_train = 2*MSE(y_train, x_train, w)\n",
    "        loss_test = 2*MSE(y_test, x_test, w)\n",
    "        rmse_train.append(np.sqrt(loss_train))\n",
    "        rmse_test.append(np.sqrt(loss_test))\n",
    "    visualization(lambda_list, rmse_train, rmse_test,d)\n",
    "    return [min(rmse_train),min(rmse_test),lambda_list[np.argmin(rmse_test)]]"
   ]
  },
  {
   "cell_type": "code",
   "execution_count": 25,
   "metadata": {},
   "outputs": [
    {
     "data": {
      "text/plain": [
       "[0.7718365167962474, 0.7767000501337182, 4.824108704165374e-05]"
      ]
     },
     "execution_count": 25,
     "metadata": {},
     "output_type": "execute_result"
    },
    {
     "data": {
      "image/png": "[encoded data removed]",
      "text/plain": [
       "<Figure size 2016x2880 with 1 Axes>"
      ]
     },
     "metadata": {
      "needs_background": "light"
     },
     "output_type": "display_data"
    }
   ],
   "source": [
    "d = 3\n",
    "cross_validation(train_set,-5,-1,d)"
   ]
  },
  {
   "cell_type": "code",
   "execution_count": 11,
   "metadata": {},
   "outputs": [
    {
     "name": "stdout",
     "output_type": "stream",
     "text": [
      "[0.5956896500450447, 0.6040663949465689, 7.742636826811246]\n",
      "0.5956961100056294\n",
      "0.6041885924271255\n"
     ]
    },
    {
     "data": {
      "image/png": "[encoded data removed]",
      "text/plain": [
       "<Figure size 2016x2880 with 1 Axes>"
      ]
     },
     "metadata": {
      "needs_background": "light"
     },
     "output_type": "display_data"
    }
   ],
   "source": [
    "degree = 3\n",
    "lbd = 1.084365968689610 \n",
    "gamm = 4.824108704165374e-0\n",
    "x_train = train_set[1]\n",
    "y_train = train_set[0]\n",
    "#pre process\n",
    "na_indices = get_na_columns(x_train, 0.7, -999)\n",
    "x_train = np.delete(x_train, na_indices, axis = 1)\n",
    "x_train[x_train == -999] = 0\n",
    "#split dataset\n",
    "(x_train, x_test, y_train, y_test) = split_data(x_train, y_train, ratio = 0.8, seed = 1)\n",
    "#standardize \n",
    "x_train, x_test = standardize(x_train, x_test)\n",
    "#Polynome \n",
    "x_train = build_poly(x_train, degree)\n",
    "x_test = build_poly(x_test, degree)\n",
    "gamma_list = np.logspace(-10,2,100)\n",
    "rmse_train = []\n",
    "rmse_test = []\n",
    "w0 = least_squares(y_train, x_train)[0]\n",
    "for gamma in gamma_list:\n",
    "    w = least_squares_SGD(y_train, x_train, w0, 1000, gamma)[0]\n",
    "    loss_train = 2*MSE(y_train, x_train, w)\n",
    "    loss_test = 2*MSE(y_test, x_test, w)\n",
    "    rmse_train.append(loss_train)\n",
    "    rmse_test.append(loss_test)\n",
    "visualization(gamma_list, rmse_train, rmse_test,3)\n",
    "print([min(rmse_train),min(rmse_test),gamma_list[np.argmin(rmse_test)]])\n",
    "print(np.mean(rmse_train))\n",
    "print(np.mean(rmse_test))"
   ]
  },
  {
   "cell_type": "code",
   "execution_count": null,
   "metadata": {},
   "outputs": [],
   "source": [
    "lambda_list = np.logspace(lower, 0, upper)\n",
    "rmse_train = []\n",
    "rmse_test = []\n",
    "for lbd in lambda_list:\n",
    "    w = ridge_regression(y_train, x_train, lbd)[0]\n",
    "    loss_train = 2*MSE(y_train, x_train, w)\n",
    "    loss_test = 2*MSE(y_test, x_test, w)\n",
    "    rmse_train.append(np.sqrt(loss_train))\n",
    "    rmse_test.append(np.sqrt(loss_test))\n",
    "visualization(lambda_list, rmse_train, rmse_test,d)\n",
    "    return [min(rmse_train),min(rmse_test),lambda_list[np.argmin(rmse_test)]]"
   ]
  },
  {
   "cell_type": "code",
   "execution_count": 4,
   "metadata": {},
   "outputs": [],
   "source": [
    "degree = 3\n",
    "lbd = 1.084365968689610 \n",
    "gamma = 4.824108704165374e-5\n",
    "#train set test set and id\n",
    "x_train = train_set[1]\n",
    "y_train = train_set[0]\n",
    "ids_train = train_set[2]\n",
    "x_test = test_set[1]\n",
    "y_test = test_set[0]\n",
    "ids_test = test_set[2]\n",
    "#drop columns with 70% of NA \n",
    "na_indices = get_na_columns(x_train, 0.7, -999)\n",
    "x_train = np.delete(x_train, na_indices, axis = 1)\n",
    "x_test = np.delete(x_test, na_indices, axis = 1)\n",
    "# put 0 for -999\n",
    "x_train[x_train == -999] = 0\n",
    "x_test[x_test == -999] = 0\n",
    "#standardize \n",
    "x_train, x_test = standardize(x_train, x_test)\n",
    "#apply polynome of degree 3 on it\n",
    "x_train = build_poly(x_train, degree)\n",
    "x_test = build_poly(x_test, degree)\n",
    "#ridge regression with lbd 10**-11 need to be explain why \n",
    "w0 = least_squares(y_train, x_train)[0]\n",
    "(w,loss) = reg_logistic_regression(y_train, x_train, lbd, w0, 1000, gamma)\n",
    "#use sigmoid to put the value between 1 and 0 \n",
    "# if 0 put -1\n",
    "y = zero_to_neg(np.around(sigmoid(x_test @ w)))\n",
    "#submit\n",
    "create_csv_submission(ids_test, y, 'prediction.csv')"
   ]
  },
  {
   "cell_type": "code",
   "execution_count": 41,
   "metadata": {},
   "outputs": [
    {
     "data": {
      "text/plain": [
       "69"
      ]
     },
     "execution_count": 41,
     "metadata": {},
     "output_type": "execute_result"
    }
   ],
   "source": [
    "len(w0)"
   ]
  },
  {
   "cell_type": "code",
   "execution_count": 18,
   "metadata": {},
   "outputs": [
    {
     "data": {
      "text/plain": [
       "69"
      ]
     },
     "execution_count": 18,
     "metadata": {},
     "output_type": "execute_result"
    }
   ],
   "source": [
    "def na_to_mean(array):\n",
    "    "
   ]
  },
  {
   "cell_type": "code",
   "execution_count": 20,
   "metadata": {},
   "outputs": [
    {
     "data": {
      "text/plain": [
       "5000"
      ]
     },
     "execution_count": 20,
     "metadata": {},
     "output_type": "execute_result"
    }
   ],
   "source": [
    "len(train_set[1])"
   ]
  },
  {
   "cell_type": "code",
   "execution_count": null,
   "metadata": {},
   "outputs": [],
   "source": [
    "def get_na_columns(array, threshold, value):\n",
    "    na_indices = []\n",
    "    for ind, row in enumerate(array.T):\n",
    "        count_na = 0\n",
    "        for j in range(len(row)):\n",
    "            if row[j] == value:\n",
    "                count_na += 1\n",
    "        if (count_na/len(row)) > threshold:\n",
    "            na_indices.append(ind)\n",
    "    return na_indices"
   ]
  }
 ],
 "metadata": {
  "kernelspec": {
   "display_name": "Python 3",
   "language": "python",
   "name": "python3"
  },
  "language_info": {
   "codemirror_mode": {
    "name": "ipython",
    "version": 3
   },
   "file_extension": ".py",
   "mimetype": "text/x-python",
   "name": "python",
   "nbconvert_exporter": "python",
   "pygments_lexer": "ipython3",
   "version": "3.7.3"
  }
 },
 "nbformat": 4,
 "nbformat_minor": 2
}
