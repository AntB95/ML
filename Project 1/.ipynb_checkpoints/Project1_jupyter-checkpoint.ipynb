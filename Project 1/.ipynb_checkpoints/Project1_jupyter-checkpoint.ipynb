{
 "cells": [
  {
   "cell_type": "code",
   "execution_count": 1,
   "metadata": {},
   "outputs": [],
   "source": [
    "import numpy as np\n",
    "import matplotlib.pyplot as plt\n",
    "from proj1_helpers import *\n",
    "from implementations import *"
   ]
  },
  {
   "cell_type": "code",
   "execution_count": 2,
   "metadata": {},
   "outputs": [],
   "source": [
    "train_set = load_csv_data('/Users/bedanian/Desktop/Machine Learning/Project 1/train.csv', sub_sample = True)\n",
    "test_set = load_csv_data('/Users/bedanian/Desktop/Machine Learning/Project 1/test.csv', sub_sample = False)"
   ]
  },
  {
   "cell_type": "code",
   "execution_count": 3,
   "metadata": {},
   "outputs": [],
   "source": [
    "#train set test set and id\n",
    "x_train = train_set[1]\n",
    "y_train = train_set[0]\n",
    "ids_train = train_set[2]\n",
    "\n",
    "x_test = test_set[1]\n",
    "y_test = test_set[0]\n",
    "ids_test = test_set[2]"
   ]
  },
  {
   "cell_type": "code",
   "execution_count": 4,
   "metadata": {},
   "outputs": [],
   "source": [
    "#function to preprocess training and test set \n",
    "def standardize(x_train, x_test):\n",
    "    mean = np.mean(x_train)\n",
    "    norm = np.linalg.norm(x_train)\n",
    "    x_train_std = (x_train - mean)/norm\n",
    "    x_test_std = (x_test - mean)/norm\n",
    "    return x_train_std, x_test_std\n",
    "\n",
    "def sigmoid(x):\n",
    "    return 0.5 * (1 + np.tanh(0.5*x))\n",
    "\n",
    "def zero_to_neg(array):\n",
    "    ret = np.zeros(len(array))\n",
    "    for i, v in enumerate(array):\n",
    "        if v == 0:\n",
    "            ret[i] = -1\n",
    "        else:\n",
    "            ret[i] = v\n",
    "    return ret\n",
    "\n",
    "def build_poly(x, degree):\n",
    "    poly = x\n",
    "    for deg in range(2, degree+1):\n",
    "        poly = np.concatenate((poly, np.power(x, deg)), axis = 1)\n",
    "    return poly"
   ]
  },
  {
   "cell_type": "code",
   "execution_count": 8,
   "metadata": {},
   "outputs": [],
   "source": [
    "#drop columns with 70% of NA \n",
    "na_indices = get_na_columns(x_train, 0.7, -999)\n",
    "x_train = np.delete(x_train, na_indices, axis = 1)\n",
    "x_test = np.delete(x_test, na_indices, axis = 1)\n",
    "#standardize \n",
    "x_train_0_std, x_test_0_std = standardize(x_train, x_test)\n",
    "#apply polynome of degree 3 on it\n",
    "x_train_0_std = build_poly(x_train_0_std, degree = 3)\n",
    "x_test_0_std = build_poly(x_test_0_std, degree = 3)"
   ]
  },
  {
   "cell_type": "code",
   "execution_count": 50,
   "metadata": {},
   "outputs": [],
   "source": [
    "#ridge regression with lbd 10**-11 need to be explain why \n",
    "(w,loss) = ridge_regression(y_train, x_train_0_std, 10**(-11))\n",
    "#use sigmoid to put the value between 1 and 0 \n",
    "# if 0 put -1\n",
    "y = zero_to_neg(np.around(sigmoid(x_test_0_std @ w)))"
   ]
  },
  {
   "cell_type": "code",
   "execution_count": 51,
   "metadata": {},
   "outputs": [],
   "source": [
    "#submit\n",
    "create_csv_submission(ids_test, y, 'prediction.csv')"
   ]
  },
  {
   "cell_type": "code",
   "execution_count": 5,
   "metadata": {},
   "outputs": [
    {
     "data": {
      "text/plain": [
       "array([1.00000000e-12, 2.59294380e-12, 6.72335754e-12, 1.74332882e-11,\n",
       "       4.52035366e-11, 1.17210230e-10, 3.03919538e-10, 7.88046282e-10,\n",
       "       2.04335972e-09, 5.29831691e-09, 1.37382380e-08, 3.56224789e-08,\n",
       "       9.23670857e-08, 2.39502662e-07, 6.21016942e-07, 1.61026203e-06,\n",
       "       4.17531894e-06, 1.08263673e-05, 2.80721620e-05, 7.27895384e-05,\n",
       "       1.88739182e-04, 4.89390092e-04, 1.26896100e-03, 3.29034456e-03,\n",
       "       8.53167852e-03, 2.21221629e-02, 5.73615251e-02, 1.48735211e-01,\n",
       "       3.85662042e-01, 1.00000000e+00])"
      ]
     },
     "execution_count": 5,
     "metadata": {},
     "output_type": "execute_result"
    }
   ],
   "source": [
    "np.logspace(-12, 0, 30)"
   ]
  },
  {
   "cell_type": "code",
   "execution_count": 16,
   "metadata": {},
   "outputs": [],
   "source": [
    "def visualization(lambda_list, mse_train, mse_test):\n",
    "    plt.figure(1, figsize = (12, 15))\n",
    "    plt.semilogx(lambda_list, mse_train, marker=\".\", color='b', label='train error')\n",
    "    plt.semilogx(lambda_list, mse_test, marker=\".\", color='r', label='test error')\n",
    "    plt.xlabel(\"lambda\")\n",
    "    plt.ylabel(\"rmse\")\n",
    "    plt.title(\"cross validation\")\n",
    "    plt.legend()\n",
    "    plt.grid()\n",
    "\n",
    "def cross_validation(y_train_, x_test_, x_train_,lower,upper):\n",
    "    #pre process\n",
    "    na_indices = get_na_columns(x_train_, 0.7, -999)\n",
    "    x_train = np.delete(x_train_, na_indices, axis = 1)\n",
    "    x_test = np.delete(x_test_, na_indices, axis = 1)\n",
    "    #standardize \n",
    "    x_train, x_test = standardize(x_train, x_test)\n",
    "    x_train = build_poly(x_train, degree = 3)\n",
    "    x_test = build_poly(x_test, degree = 3)\n",
    "    \n",
    "    lambda_list = np.logspace(lower, 0, upper)\n",
    "    rmse_train = []\n",
    "    rmse_test = []\n",
    "    for lbd in lambda_list:\n",
    "        w_train, loss_train = ridge_regression(y_train, x_train, lbd)\n",
    " \n",
    "        loss_train = MSE(y_train, x_train, w_train)\n",
    "        loss_test = MSE(y_test, x_test, w_train)\n",
    "        rmse_train.append(np.sqrt(loss_train))\n",
    "        rmse_test.append(np.sqrt(loss_test))\n",
    "    visualization(lambda_list, rmse_train, rmse_test)\n"
   ]
  },
  {
   "cell_type": "code",
   "execution_count": 17,
   "metadata": {},
   "outputs": [
    {
     "data": {
      "image/png": "[encoded data removed]",
      "text/plain": [
       "<Figure size 864x1080 with 1 Axes>"
      ]
     },
     "metadata": {
      "needs_background": "light"
     },
     "output_type": "display_data"
    }
   ],
   "source": [
    "cross_validation(y_train, x_test, x_train,-20,30)"
   ]
  },
  {
   "cell_type": "code",
   "execution_count": null,
   "metadata": {},
   "outputs": [],
   "source": []
  }
 ],
 "metadata": {
  "kernelspec": {
   "display_name": "Python 3",
   "language": "python",
   "name": "python3"
  },
  "language_info": {
   "codemirror_mode": {
    "name": "ipython",
    "version": 3
   },
   "file_extension": ".py",
   "mimetype": "text/x-python",
   "name": "python",
   "nbconvert_exporter": "python",
   "pygments_lexer": "ipython3",
   "version": "3.7.3"
  }
 },
 "nbformat": 4,
 "nbformat_minor": 2
}
