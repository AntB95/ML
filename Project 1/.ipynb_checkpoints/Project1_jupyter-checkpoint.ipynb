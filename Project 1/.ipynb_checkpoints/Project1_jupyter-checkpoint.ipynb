{
 "cells": [
  {
   "cell_type": "code",
   "execution_count": 33,
   "metadata": {},
   "outputs": [],
   "source": [
    "import numpy as np\n",
    "import matplotlib.pyplot as plt\n",
    "from proj1_helpers import *\n",
    "from implementations import *"
   ]
  },
  {
   "cell_type": "code",
   "execution_count": 2,
   "metadata": {},
   "outputs": [],
   "source": [
    "train_set = load_csv_data('/Users/bedanian/Desktop/Machine Learning/Project 1/train.csv', sub_sample = True)\n",
    "test_set = load_csv_data('/Users/bedanian/Desktop/Machine Learning/Project 1/test.csv', sub_sample = False)"
   ]
  },
  {
   "cell_type": "code",
   "execution_count": 29,
   "metadata": {},
   "outputs": [],
   "source": [
    "#train set test set and id\n",
    "x_train = train_set[1]\n",
    "y_train = train_set[0]\n",
    "ids_train = train_set[2]\n",
    "\n",
    "x_test = test_set[1]\n",
    "y_test = test_set[0]\n",
    "ids_test = test_set[2]"
   ]
  },
  {
   "cell_type": "code",
   "execution_count": 47,
   "metadata": {},
   "outputs": [],
   "source": [
    "#function to preprocess training and test set \n",
    "def standardize(x_train, x_test):\n",
    "    mean = np.mean(x_train)\n",
    "    norm = np.linalg.norm(x_train)\n",
    "    x_train_std = (x_train - mean)/norm\n",
    "    x_test_std = (x_test - mean)/norm\n",
    "    return x_train_std, x_test_std\n",
    "\n",
    "def sigmoid(x):\n",
    "    s = 0.5 * (1 + np.tanh(0.5*x))\n",
    "    return s\n",
    "\n",
    "def zero_to_neg(array):\n",
    "    ret = np.zeros(len(array))\n",
    "    for i, v in enumerate(array):\n",
    "        if v == 0:\n",
    "            ret[i] = -1\n",
    "        else:\n",
    "            ret[i] = v\n",
    "    return ret\n",
    "\n",
    "def build_poly(x, degree):\n",
    "    poly = x\n",
    "    for deg in range(2, degree+1):\n",
    "        poly = np.concatenate((poly, np.power(x, deg)), axis = 1)\n",
    "    return poly"
   ]
  },
  {
   "cell_type": "code",
   "execution_count": 48,
   "metadata": {},
   "outputs": [],
   "source": [
    "#drop columns with 70% of NA \n",
    "na_indices = get_na_columns(x_train, 0.7, -999)\n",
    "x_train = np.delete(x_train, na_indices, axis = 1)\n",
    "x_test = np.delete(x_test, na_indices, axis = 1)\n",
    "#standardize \n",
    "x_train_0_std, x_test_0_std = standardize(x_train, x_test)\n",
    "#apply polynome of degree 3 on it\n",
    "x_train_0_std = build_poly(x_train_0_std, degree = 3)\n",
    "x_test_0_std = build_poly(x_test_0_std, degree = 3)"
   ]
  },
  {
   "cell_type": "code",
   "execution_count": 50,
   "metadata": {},
   "outputs": [],
   "source": [
    "#ridge regression with lbd 10**-11 need to be explain why \n",
    "(w,loss) = ridge_regression(y_train, x_train_0_std, 10**(-11))\n",
    "#use sigmoid to put the value between 1 and 0 \n",
    "# if 0 put -1\n",
    "y = zero_to_neg(np.around(sigmoid(x_test_0_std @ w)))"
   ]
  },
  {
   "cell_type": "code",
   "execution_count": 51,
   "metadata": {},
   "outputs": [],
   "source": [
    "#submit\n",
    "create_csv_submission(ids_test, y, 'prediction.csv')"
   ]
  }
 ],
 "metadata": {
  "kernelspec": {
   "display_name": "Python 3",
   "language": "python",
   "name": "python3"
  },
  "language_info": {
   "codemirror_mode": {
    "name": "ipython",
    "version": 3
   },
   "file_extension": ".py",
   "mimetype": "text/x-python",
   "name": "python",
   "nbconvert_exporter": "python",
   "pygments_lexer": "ipython3",
   "version": "3.7.3"
  }
 },
 "nbformat": 4,
 "nbformat_minor": 2
}
