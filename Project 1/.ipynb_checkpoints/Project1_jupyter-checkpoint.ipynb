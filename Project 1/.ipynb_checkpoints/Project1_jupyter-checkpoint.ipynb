{
 "cells": [
  {
   "cell_type": "code",
   "execution_count": 4,
   "metadata": {},
   "outputs": [],
   "source": [
    "import numpy as np\n",
    "import matplotlib.pyplot as plt\n",
    "from proj1_helpers import *"
   ]
  },
  {
   "cell_type": "code",
   "execution_count": 5,
   "metadata": {},
   "outputs": [],
   "source": [
    "train_set = load_csv_data('/Users/bedanian/Desktop/Machine Learning/Project 1/train.csv', sub_sample = True)\n",
    "test_set = load_csv_data('/Users/bedanian/Desktop/Machine Learning/Project 1/test.csv', sub_sample = False)"
   ]
  },
  {
   "cell_type": "code",
   "execution_count": 11,
   "metadata": {},
   "outputs": [],
   "source": [
    "y_train = train_set[0]\n",
    "x_train = train_set[1]\n",
    "ids_train = train_set[2]\n",
    "\n",
    "y_test = test_set[0]\n",
    "x_test = test_set[1]\n",
    "ids_test = test_set[2]"
   ]
  },
  {
   "cell_type": "code",
   "execution_count": 26,
   "metadata": {},
   "outputs": [],
   "source": [
    "# X = tx w = beta_hat \n",
    "def least_squares(y, tx):\n",
    "    A = tx.T@tx\n",
    "    b = tx.T@y\n",
    "    w = np.linalg.solve(A, b)\n",
    "    loss = MSE(y, tx, w)\n",
    "    return w, loss\n",
    "\n",
    "# the mean squares error.\n",
    "def MSE(y, tx, w):\n",
    "    y_hat = tx.dot(w)\n",
    "    e = y - y_hat\n",
    "    mse = e.dot(e) / (2 * len(e))\n",
    "    return mse\n",
    "\n",
    "def get_na_columns(array, threshold, value):\n",
    "    na_indices = []\n",
    "    for ind, row in enumerate(array.T):\n",
    "        count_na = 0\n",
    "        for j in range(len(row)):\n",
    "            if row[j] == value:\n",
    "                count_na += 1\n",
    "        if (count_na/len(row)) > threshold:\n",
    "            na_indices.append(ind)\n",
    "    return na_indices"
   ]
  },
  {
   "cell_type": "code",
   "execution_count": 33,
   "metadata": {},
   "outputs": [],
   "source": [
    "zero_indices_test = get_na_columns(x_test, 0.7, -999)\n",
    "zero_indices_train = get_na_columns(x_train, 0.7, -999)\n",
    "\n",
    "x_train_clean = np.delete(x_train, na_indices_0, axis = 1)\n",
    "x_test_clean = np.delete(x_test, na_indices_0, axis = 1)"
   ]
  },
  {
   "cell_type": "code",
   "execution_count": 34,
   "metadata": {},
   "outputs": [
    {
     "data": {
      "text/plain": [
       "[4, 5, 6, 12, 26, 27, 28]"
      ]
     },
     "execution_count": 34,
     "metadata": {},
     "output_type": "execute_result"
    }
   ],
   "source": []
  },
  {
   "cell_type": "code",
   "execution_count": null,
   "metadata": {},
   "outputs": [],
   "source": [
    "create_csv_submission(ids, y_pred, name)"
   ]
  }
 ],
 "metadata": {
  "kernelspec": {
   "display_name": "Python 3",
   "language": "python",
   "name": "python3"
  },
  "language_info": {
   "codemirror_mode": {
    "name": "ipython",
    "version": 3
   },
   "file_extension": ".py",
   "mimetype": "text/x-python",
   "name": "python",
   "nbconvert_exporter": "python",
   "pygments_lexer": "ipython3",
   "version": "3.7.3"
  }
 },
 "nbformat": 4,
 "nbformat_minor": 2
}
