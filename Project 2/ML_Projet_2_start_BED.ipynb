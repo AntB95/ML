{
 "cells": [
  {
   "cell_type": "code",
   "execution_count": null,
   "metadata": {},
   "outputs": [],
   "source": [
    "from surprise import SVD, NMF, Dataset, Reader, SVDpp, BaselineOnly, KNNBaseline, SlopeOne, accuracy\n",
    "from surprise.model_selection import cross_validate, GridSearchCV,train_test_split, KFold, GridSearchCV\n",
    "from sklearn.model_selection import KFold as skFold\n",
    "from sklearn.model_selection import train_test_split\n",
    "from sklearn.linear_model import RidgeCV\n",
    "import pandas as pd \n",
    "from project_helpers import *\n",
    "from math import *\n",
    "\n",
    "#seed\n",
    "random.seed(404)\n",
    "np.random.seed(404)"
   ]
  },
  {
   "cell_type": "code",
   "execution_count": null,
   "metadata": {},
   "outputs": [],
   "source": [
    "train = pd.read_csv(r'data_train.csv')\n",
    "train = df_to_surprise(train)\n"
   ]
  },
  {
   "cell_type": "code",
   "execution_count": null,
   "metadata": {},
   "outputs": [],
   "source": [
    "#Split data into models training_set and blender_set\n",
    "traing_set = train.sample(frac = 0.8, random_state = 200)\n",
    "blender_set = train.drop(traing_set.index)"
   ]
  },
  {
   "cell_type": "code",
   "execution_count": null,
   "metadata": {},
   "outputs": [],
   "source": [
    "mean = global_mean(traing_set)\n",
    "users = user_mean(traing_set)\n",
    "movies = movie_mean(traing_set)"
   ]
  },
  {
   "cell_type": "code",
   "execution_count": null,
   "metadata": {},
   "outputs": [],
   "source": [
    "#Change both dataset into the surprise format\n",
    "#setup the rating scale\n",
    "reader = Reader(rating_scale=(1, 5))\n",
    "\n",
    "traing_set_surp = Dataset.load_from_df(traing_set, reader)\n",
    "traing_set_surp_train = traing_set_surp.build_full_trainset()\n",
    "blend_surp = Dataset.load_from_df(blender_set, reader)\n",
    "blend_surp_train = blend_surp.build_full_trainset()\n",
    "\n",
    "#Load blend train set as a testset for models performance evaluation\n",
    "blend_surp_test = blend_surp_train.build_testset()"
   ]
  },
  {
   "cell_type": "code",
   "execution_count": null,
   "metadata": {},
   "outputs": [],
   "source": [
    "#Baseline\n",
    "grid_baseline = {'bsl_options': {'method': ['sgd'],'reg': [10**-i for i in range(-3,12)]},'verbose':[False]}\n",
    "gs_baseline = GridSearchCV(BaselineOnly, grid_baseline, measures = ['rmse'], cv = KFold(n_splits = 3, random_state = 200, shuffle = False))\n",
    "gs_baseline.fit(traing_set_surp)\n",
    "print('Best Hyperparameters: ', gs_baseline.best_params['rmse'])\n",
    "algo_baseline = gs_baseline.best_estimator['rmse']\n",
    "algo_baseline.fit(traing_set_surp_train)"
   ]
  },
  {
   "cell_type": "code",
   "execution_count": null,
   "metadata": {},
   "outputs": [],
   "source": [
    "#SVD + baseline\n",
    "grid_SVDb = {'reg_all': [10**-i for i in range(-3,12)], 'biased':[True], 'n_factors':[20, 50, 100, 200, 300, 400],'n_epochs':[500], 'lr_all':[0.0015]}\n",
    "gs_SVDb = GridSearchCV(SVD, grid_SVDb, measures = ['rmse'], cv = KFold(n_splits = 3, random_state = 200, shuffle = False))\n",
    "gs_SVDb.fit(traing_set_surp)\n",
    "print('Best Hyperparameters: ', gs_SVDb.best_params['rmse'])\n",
    "algo_SVDb = gs_SVDb.best_estimator['rmse']\n",
    "algo_SVDb.fit(traing_set_surp_train)"
   ]
  },
  {
   "cell_type": "code",
   "execution_count": null,
   "metadata": {},
   "outputs": [],
   "source": [
    "#SVD without baseline\n",
    "grid_SVD = {'reg_all':[10**-i for i in range(-3,12)], 'biased':[False], 'n_factors':[1, 5, 10, 100, 200],'n_epochs':[500], 'lr_all':[0.0015]}\n",
    "gs_SVD = GridSearchCV(SVD, grid_SVD, measures = ['rmse'], cv = KFold(n_splits = 3, random_state = 200, shuffle = False))\n",
    "gs_SVD.fit(traing_set_surp)\n",
    "print('Best Hyperparameters: ', gs_SVD.best_params['rmse'])\n",
    "algo_SVD = gs_SVD.best_estimator['rmse']\n",
    "algo_SVD.fit(traing_set_surp_train)"
   ]
  },
  {
   "cell_type": "code",
   "execution_count": null,
   "metadata": {},
   "outputs": [],
   "source": [
    "#SVD++\n",
    "grid_SVDpp = {}\n",
    "gs_SVDpp = GridSearchCV(SVDpp, grid_SVDpp, measures = ['rmse'], cv = KFold(n_splits = 3, random_state = 200, shuffle = False))\n",
    "gs_SVDpp.fit(traing_set_surp)\n",
    "print('Best Hyperparameters: ', gs_SVDpp.best_params['rmse'])\n",
    "algo_SVDpp = gs_SVDpp.best_estimator['rmse']\n",
    "algo_SVDpp.fit(traing_set_surp_train)"
   ]
  },
  {
   "cell_type": "code",
   "execution_count": null,
   "metadata": {},
   "outputs": [],
   "source": [
    "#Slope One\n",
    "algo_slope_one = SlopeOne()\n",
    "algo_slope_one.fit((traing_set_surp_train)"
   ]
  },
  {
   "cell_type": "code",
   "execution_count": null,
   "metadata": {},
   "outputs": [],
   "source": [
    "#KNN user\n",
    "grid_knn_user = {'bsl_options': {'method':['als'],'n_epochs':[50]},'k': [150, 200, 250, 300,350,400,450,500,550],\n",
    "                 'sim_options': {'name': ['pearson_baseline'],'min_support': [1],'user_based': [True]}}\n",
    "gs_knn_user = GridSearchCV(KNNBaseline, grid_knn_user, measures=['rmse'], cv = KFold(n_splits = 3, random_state = 200\n",
    "                                                                                     , shuffle = False))\n",
    "gs_knn_user.fit(traing_set_surp)\n",
    "print('Best Hyperparameters: ', gs_knn_user.best_params['rmse'])\n",
    "algo_knn_user = gs_knn_user.best_estimator['rmse']\n",
    "algo_knn_user.fit(traing_set_surp_train)"
   ]
  },
  {
   "cell_type": "code",
   "execution_count": null,
   "metadata": {},
   "outputs": [],
   "source": [
    "#KNN movie\n",
    "grid_knn_movie = {'bsl_options': {'method':['als'],'n_epochs':[50]},'k': [150, 200, 250, 300,350,400,450,500,550],\n",
    "                  'sim_options': {'name': ['pearson_baseline'],'min_support': [1],'user_based': [False]}}\n",
    "gs_knn_movie = GridSearchCV(KNNBaseline, grid_knn_movie, measures = ['rmse'], cv = KFold(n_splits = 3\n",
    "                            , random_state = 200, shuffle = False))\n",
    "gs_knn_movie.fit(traing_set_surp)\n",
    "print('Best Hyperparameters: ', gs_knn_movie.best_params['rmse'])\n",
    "algo_knn_movie = gs_knn_movie.best_estimator['rmse']\n",
    "algo_knn_movie.fit(traing_set_surp_train)"
   ]
  }
 ],
 "metadata": {
  "kernelspec": {
   "display_name": "Python 3",
   "language": "python",
   "name": "python3"
  },
  "language_info": {
   "codemirror_mode": {
    "name": "ipython",
    "version": 3
   },
   "file_extension": ".py",
   "mimetype": "text/x-python",
   "name": "python",
   "nbconvert_exporter": "python",
   "pygments_lexer": "ipython3",
   "version": "3.7.3"
  }
 },
 "nbformat": 4,
 "nbformat_minor": 2
}
